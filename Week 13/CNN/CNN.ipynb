{
  "nbformat": 4,
  "nbformat_minor": 0,
  "metadata": {
    "colab": {
      "provenance": []
    },
    "kernelspec": {
      "name": "python3",
      "display_name": "Python 3"
    },
    "language_info": {
      "name": "python"
    }
  },
  "cells": [
    {
      "cell_type": "code",
      "execution_count": 1,
      "metadata": {
        "colab": {
          "base_uri": "https://localhost:8080/"
        },
        "id": "BlxYnM-Fju5D",
        "outputId": "c68f6405-d8a0-4222-e7f2-7dcd24dc65a0"
      },
      "outputs": [
        {
          "output_type": "stream",
          "name": "stdout",
          "text": [
            "--2023-12-29 17:12:42--  https://github.com/dicodingacademy/assets/raw/main/ml_pengembangan_academy/Chessman-image-dataset.zip\n",
            "Resolving github.com (github.com)... 140.82.113.4\n",
            "Connecting to github.com (github.com)|140.82.113.4|:443... connected.\n",
            "HTTP request sent, awaiting response... 302 Found\n",
            "Location: https://raw.githubusercontent.com/dicodingacademy/assets/main/ml_pengembangan_academy/Chessman-image-dataset.zip [following]\n",
            "--2023-12-29 17:12:42--  https://raw.githubusercontent.com/dicodingacademy/assets/main/ml_pengembangan_academy/Chessman-image-dataset.zip\n",
            "Resolving raw.githubusercontent.com (raw.githubusercontent.com)... 185.199.111.133, 185.199.110.133, 185.199.108.133, ...\n",
            "Connecting to raw.githubusercontent.com (raw.githubusercontent.com)|185.199.111.133|:443... connected.\n",
            "HTTP request sent, awaiting response... 200 OK\n",
            "Length: 60684125 (58M) [application/zip]\n",
            "Saving to: ‘/tmp/Chessman-image-dataset.zip’\n",
            "\n",
            "/tmp/Chessman-image 100%[===================>]  57.87M   233MB/s    in 0.2s    \n",
            "\n",
            "2023-12-29 17:12:43 (233 MB/s) - ‘/tmp/Chessman-image-dataset.zip’ saved [60684125/60684125]\n",
            "\n"
          ]
        }
      ],
      "source": [
        "!wget --no-check-certificate \\\n",
        "  https://github.com/dicodingacademy/assets/raw/main/ml_pengembangan_academy/Chessman-image-dataset.zip \\\n",
        "  -O /tmp/Chessman-image-dataset.zip"
      ]
    },
    {
      "cell_type": "code",
      "source": [
        "#ekstrak dataset\n",
        "import os\n",
        "import zipfile\n",
        "local_zip = '/tmp/Chessman-image-dataset.zip'\n",
        "zip_ref = zipfile.ZipFile(local_zip, 'r')\n",
        "zip_ref.extractall('/tmp')\n",
        "zip_ref.close()"
      ],
      "metadata": {
        "id": "pmvxm38hj1Oi"
      },
      "execution_count": 2,
      "outputs": []
    },
    {
      "cell_type": "code",
      "source": [
        "#menghitung jumlah data pada tiap direktori\n",
        "print('total pawn images :', len(os.listdir('/tmp/Chessman-image-dataset/Chess/Pawn')))\n",
        "print('total King images :', len(os.listdir('/tmp/Chessman-image-dataset/Chess/King')))\n",
        "print('total Knight images :', len(os.listdir('/tmp/Chessman-image-dataset/Chess/Knight')))\n",
        "print('total bishop images :', len(os.listdir('/tmp/Chessman-image-dataset/Chess/Bishop')))\n",
        "print('total queen images :', len(os.listdir('/tmp/Chessman-image-dataset/Chess/Queen')))\n",
        "print('total rook images :', len(os.listdir('/tmp/Chessman-image-dataset/Chess/Rook')))"
      ],
      "metadata": {
        "colab": {
          "base_uri": "https://localhost:8080/"
        },
        "id": "cACuxwsEj24w",
        "outputId": "f2d2743e-8acf-4327-d971-734ec64d38ef"
      },
      "execution_count": 3,
      "outputs": [
        {
          "output_type": "stream",
          "name": "stdout",
          "text": [
            "total pawn images : 107\n",
            "total King images : 76\n",
            "total Knight images : 106\n",
            "total bishop images : 87\n",
            "total queen images : 78\n",
            "total rook images : 102\n"
          ]
        }
      ]
    },
    {
      "cell_type": "code",
      "source": [
        "#import image generator dan mengaplikasikan augmentasi gambar\n",
        "from tensorflow.keras.preprocessing.image import ImageDataGenerator\n",
        "\n",
        "train_dir = os.path.join('/tmp/Chessman-image-dataset/Chess')\n",
        "train_datagen = ImageDataGenerator(rescale=1./255,\n",
        "                                   rotation_range=20,\n",
        "                                   zoom_range=0.2,\n",
        "                                   shear_range=0.2,\n",
        "                                   fill_mode='nearest',\n",
        "                                   validation_split=0.1) #set validation split"
      ],
      "metadata": {
        "id": "PTn69nA7j7yh"
      },
      "execution_count": 4,
      "outputs": []
    },
    {
      "cell_type": "code",
      "source": [
        "#membagi data training dan data testing menggunakan parameter subset 'training'/'validation'\n",
        "train_generator = train_datagen.flow_from_directory(\n",
        "    train_dir,\n",
        "    target_size=(150, 150),\n",
        "    batch_size=8,\n",
        "    class_mode='categorical',\n",
        "    subset='training'\n",
        ") #set as training data\n",
        "validation_generator = train_datagen.flow_from_directory(\n",
        "    train_dir, #direktori yang sama dengan data train\n",
        "    target_size=(150, 150),\n",
        "    batch_size=16,\n",
        "    class_mode='categorical',\n",
        "    subset='validation'\n",
        ")"
      ],
      "metadata": {
        "colab": {
          "base_uri": "https://localhost:8080/"
        },
        "id": "6MlyAy0tj9Ww",
        "outputId": "0c546250-d68f-42c5-e512-a9972de73301"
      },
      "execution_count": 5,
      "outputs": [
        {
          "output_type": "stream",
          "name": "stdout",
          "text": [
            "Found 499 images belonging to 6 classes.\n",
            "Found 52 images belonging to 6 classes.\n"
          ]
        }
      ]
    },
    {
      "cell_type": "code",
      "source": [
        "#arsitektur model 3 layer convolution dan 2 hidden layer; 512 dan 256 unit perseptron\n",
        "import tensorflow as tf\n",
        "model = tf.keras.models.Sequential([\n",
        "    #input shape 150x150 pixel dan 3 bytes warna\n",
        "    tf.keras.layers.Conv2D(64, (3,3), activation='relu', input_shape=(150, 150, 3)),\n",
        "    tf.keras.layers.MaxPooling2D(2,2),\n",
        "    tf.keras.layers.Conv2D(32, (3,3), activation='relu'),\n",
        "    tf.keras.layers.MaxPooling2D(2,2),\n",
        "    tf.keras.layers.Dropout(0.4),\n",
        "    tf.keras.layers.Conv2D(64, (3,3), activation='relu'),\n",
        "    tf.keras.layers.MaxPooling2D(2,2),\n",
        "    tf.keras.layers.Dropout(0.4),\n",
        "    #flatten the result to feed into a DNN\n",
        "    tf.keras.layers.Flatten(),\n",
        "    #512 neuron hidden layer\n",
        "    tf.keras.layers.Dense(512, activation='relu'),\n",
        "    tf.keras.layers.Dense(256, activation='relu'),\n",
        "    #output dengan 1 neuron\n",
        "    tf.keras.layers.Dense(6, activation='softmax')\n",
        "])"
      ],
      "metadata": {
        "id": "ts-wZkQFj-uL"
      },
      "execution_count": 6,
      "outputs": []
    },
    {
      "cell_type": "code",
      "source": [
        "#optimizer dan loss\n",
        "model.compile(optimizer=tf.optimizers.Adam(),\n",
        "              loss='categorical_crossentropy',\n",
        "              metrics=['accuracy'])\n",
        "\n",
        "history = model.fit(train_generator,\n",
        "                              validation_data=validation_generator,\n",
        "                              epochs=50,\n",
        "                              verbose=2)"
      ],
      "metadata": {
        "colab": {
          "base_uri": "https://localhost:8080/"
        },
        "id": "MiEKaD1qkAO9",
        "outputId": "f4056944-5c1f-4510-fd9b-20b83226f64f"
      },
      "execution_count": null,
      "outputs": [
        {
          "output_type": "stream",
          "name": "stdout",
          "text": [
            "Epoch 1/50\n",
            "63/63 - 55s - loss: 1.8506 - accuracy: 0.1503 - val_loss: 1.7871 - val_accuracy: 0.1923 - 55s/epoch - 870ms/step\n",
            "Epoch 2/50\n",
            "63/63 - 43s - loss: 1.7885 - accuracy: 0.1804 - val_loss: 1.7830 - val_accuracy: 0.1923 - 43s/epoch - 678ms/step\n",
            "Epoch 3/50\n"
          ]
        }
      ]
    },
    {
      "cell_type": "code",
      "source": [
        "#plot akurasi\n",
        "import matplotlib.pyplot as plt\n",
        "plt.plot(history.history['accuracy'])\n",
        "plt.plot(history.history['val_accuracy'])\n",
        "plt.title('Akurasi Model')\n",
        "plt.ylabel('accuracy')\n",
        "plt.xlabel('epoch')\n",
        "plt.legend(['train', 'test'], loc='upper left')\n",
        "plt.show()"
      ],
      "metadata": {
        "id": "6yEXhUpNkC1L"
      },
      "execution_count": null,
      "outputs": []
    }
  ]
}